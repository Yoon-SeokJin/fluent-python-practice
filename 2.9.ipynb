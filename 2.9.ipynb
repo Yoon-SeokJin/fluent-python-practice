{
 "cells": [
  {
   "cell_type": "code",
   "execution_count": 1,
   "metadata": {},
   "outputs": [
    {
     "data": {
      "text/plain": [
       "array('b', [3, 2, 5, 1, 4])"
      ]
     },
     "execution_count": 1,
     "metadata": {},
     "output_type": "execute_result"
    }
   ],
   "source": [
    "from array import array\n",
    "l = [3, 2, 5, 1, 4]\n",
    "a = array('b', l)\n",
    "a"
   ]
  },
  {
   "cell_type": "code",
   "execution_count": 15,
   "metadata": {},
   "outputs": [
    {
     "data": {
      "text/plain": [
       "2"
      ]
     },
     "execution_count": 15,
     "metadata": {},
     "output_type": "execute_result"
    }
   ],
   "source": [
    "l = ['a', 'b', '뷁']\n",
    "a = array('u', l)\n",
    "a.itemsize"
   ]
  },
  {
   "cell_type": "code",
   "execution_count": 16,
   "metadata": {},
   "outputs": [],
   "source": [
    "from collections import deque\n",
    "d = deque()"
   ]
  },
  {
   "cell_type": "code",
   "execution_count": 26,
   "metadata": {},
   "outputs": [
    {
     "name": "stdout",
     "output_type": "stream",
     "text": [
      "Queue [3, 2, 5, 1, 4]\n",
      "LifoQueue [4, 1, 5, 2, 3]\n",
      "PriorityQueue [1, 2, 3, 4, 5]\n"
     ]
    }
   ],
   "source": [
    "from queue import Queue, LifoQueue, PriorityQueue\n",
    "q = Queue()\n",
    "lq = LifoQueue()\n",
    "pq = PriorityQueue()\n",
    "\n",
    "values = [3, 2, 5, 1, 4]\n",
    "\n",
    "for i in values:\n",
    "    q.put(i)\n",
    "    lq.put(i)\n",
    "    pq.put(i)\n",
    "\n",
    "for q in [q, lq, pq]:\n",
    "    result = []\n",
    "    while not q.empty():\n",
    "        result.append(q.get())\n",
    "    print(q.__class__.__name__, result)\n"
   ]
  },
  {
   "cell_type": "code",
   "execution_count": 19,
   "metadata": {},
   "outputs": [],
   "source": [
    "from multiprocessing import JoinableQueue, SimpleQueue\n",
    "jq = JoinableQueue()\n",
    "sq = SimpleQueue()"
   ]
  },
  {
   "cell_type": "code",
   "execution_count": null,
   "metadata": {},
   "outputs": [],
   "source": [
    "import asyncio\n",
    "from heapq import heappush, heappop\n"
   ]
  },
  {
   "cell_type": "code",
   "execution_count": null,
   "metadata": {},
   "outputs": [],
   "source": []
  }
 ],
 "metadata": {
  "kernelspec": {
   "display_name": "Python 3.7.9 ('.venv': venv)",
   "language": "python",
   "name": "python3"
  },
  "language_info": {
   "codemirror_mode": {
    "name": "ipython",
    "version": 3
   },
   "file_extension": ".py",
   "mimetype": "text/x-python",
   "name": "python",
   "nbconvert_exporter": "python",
   "pygments_lexer": "ipython3",
   "version": "3.7.9"
  },
  "orig_nbformat": 4,
  "vscode": {
   "interpreter": {
    "hash": "7f7f46f6f58d054c969a6a550d339cdf6324e194fb07447c572c43a398c6172a"
   }
  }
 },
 "nbformat": 4,
 "nbformat_minor": 2
}
