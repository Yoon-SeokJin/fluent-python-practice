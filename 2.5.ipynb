{
 "cells": [
  {
   "cell_type": "code",
   "execution_count": 14,
   "metadata": {},
   "outputs": [
    {
     "name": "stdout",
     "output_type": "stream",
     "text": [
      "140726684318816\n",
      "140726684318816\n",
      "140726684318784\n",
      "140726684318816\n",
      "140726684318848\n"
     ]
    }
   ],
   "source": [
    "a = [1, 2, 3] * 2\n",
    "print(id(a[1]))\n",
    "print(id(a[4]))\n",
    "print(id(a[0]))\n",
    "print(id(a[1]))\n",
    "print(id(a[2]))"
   ]
  },
  {
   "cell_type": "code",
   "execution_count": 11,
   "metadata": {},
   "outputs": [
    {
     "data": {
      "text/plain": [
       "[1, 2, [...]]"
      ]
     },
     "execution_count": 11,
     "metadata": {},
     "output_type": "execute_result"
    }
   ],
   "source": [
    "a = [1, 2, 3]\n",
    "a[2] = a\n",
    "a"
   ]
  },
  {
   "cell_type": "code",
   "execution_count": 15,
   "metadata": {},
   "outputs": [
    {
     "name": "stdout",
     "output_type": "stream",
     "text": [
      "2103912226672\n",
      "2103912226672\n",
      "2103912242352\n",
      "2103912226672\n",
      "2103911200240\n"
     ]
    }
   ],
   "source": [
    "s = 'abc' * 2\n",
    "print(id(s[1]))\n",
    "print(id(s[4]))\n",
    "print(id(s[0]))\n",
    "print(id(s[1]))\n",
    "print(id(s[2]))"
   ]
  },
  {
   "cell_type": "code",
   "execution_count": 19,
   "metadata": {},
   "outputs": [
    {
     "name": "stdout",
     "output_type": "stream",
     "text": [
      "140726684318816\n",
      "140726684318816\n"
     ]
    }
   ],
   "source": [
    "from array import array\n",
    "arr = array('I', [3, 2, 1]) * 2\n",
    "print(id(arr[1]))\n",
    "print(id(arr[4]))"
   ]
  }
 ],
 "metadata": {
  "kernelspec": {
   "display_name": "Python 3.7.9 ('.venv': venv)",
   "language": "python",
   "name": "python3"
  },
  "language_info": {
   "codemirror_mode": {
    "name": "ipython",
    "version": 3
   },
   "file_extension": ".py",
   "mimetype": "text/x-python",
   "name": "python",
   "nbconvert_exporter": "python",
   "pygments_lexer": "ipython3",
   "version": "3.7.9"
  },
  "orig_nbformat": 4,
  "vscode": {
   "interpreter": {
    "hash": "7f7f46f6f58d054c969a6a550d339cdf6324e194fb07447c572c43a398c6172a"
   }
  }
 },
 "nbformat": 4,
 "nbformat_minor": 2
}
